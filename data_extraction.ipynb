{
 "cells": [
  {
   "cell_type": "code",
   "execution_count": null,
   "metadata": {},
   "outputs": [],
   "source": [
    "import pandas as pd\n",
    "import sqlalchemy\n",
    "from dotenv import load_dotenv\n",
    "import os\n",
    "import h3\n",
    "import shapely\n",
    "import pyproj\n",
    "import numpy as np\n",
    "import json\n",
    "\n",
    "import datetime\n",
    "\n",
    "load_dotenv()"
   ]
  },
  {
   "cell_type": "code",
   "execution_count": null,
   "metadata": {},
   "outputs": [],
   "source": [
    "params = {\n",
    "    'db': os.getenv('POSTGRES_DB'),\n",
    "    'user': os.getenv('POSTGRES_USER'),\n",
    "    'password': os.getenv('POSTGRES_PASSWORD'),\n",
    "    'url': os.getenv('DATABASE_URL'),\n",
    "    'sampling_mode': 'circle', # polygon | circle\n",
    "    'h3_max_res': 7\n",
    "}\n",
    "\n",
    "params"
   ]
  },
  {
   "cell_type": "code",
   "execution_count": null,
   "metadata": {},
   "outputs": [],
   "source": [
    "QUERY = 'SELECT an.\"taxa_id\", ah.\"hex_id\" FROM \"annotation\" AS an INNER JOIN \"annotation_hexagon\" AS ah ON an.\"annotation_id\"=ah.\"annotation_id\"'"
   ]
  },
  {
   "cell_type": "code",
   "execution_count": null,
   "metadata": {},
   "outputs": [],
   "source": [
    "engine = sqlalchemy.engine.create_engine(url=params['url'])\n",
    "df = pd.read_sql(QUERY, engine)\n",
    "df.head()"
   ]
  },
  {
   "cell_type": "code",
   "execution_count": null,
   "metadata": {},
   "outputs": [],
   "source": [
    "len(df)"
   ]
  },
  {
   "cell_type": "code",
   "execution_count": null,
   "metadata": {},
   "outputs": [],
   "source": [
    "def calculate_geo_distance(loc1, loc2):\n",
    "    lat1, lng1 = loc1\n",
    "    lat2, lng2 = loc2\n",
    "\n",
    "    geod = pyproj.Geod(ellps=\"WGS84\")\n",
    "    _, _, distance = geod.inv(lons1=lng1, lats1=lat1, lons2=lng2, lats2=lat2)\n",
    "    return distance\n",
    "\n",
    "def generate_random_points_in_polygon(boundary, N):\n",
    "    polygon = shapely.Polygon(boundary)\n",
    "    min_x, min_y, max_x, max_y = polygon.bounds\n",
    "\n",
    "    random_points = []\n",
    "    while len(random_points) < N:\n",
    "        x = np.random.uniform(min_x, max_x)\n",
    "        y = np.random.uniform(min_y, max_y)\n",
    "\n",
    "        point = shapely.Point(x, y)\n",
    "        if polygon.contains(point):\n",
    "            random_points.append((x, y))\n",
    "\n",
    "    return random_points\n",
    "\n",
    "def generate_random_points_in_circle(lat, lng, R, N):\n",
    "    center_point = shapely.geometry.Point(lng, lat)\n",
    "    random_points = []\n",
    "    while len(random_points) < N:\n",
    "        r = R * np.sqrt(np.random.uniform(0, 1)) # random distance from center\n",
    "        theta = np.random.uniform(0, 2 * np.pi) # random degree\n",
    "        \n",
    "        x = lng + r * np.cos(theta) / (111320 * np.cos(lat * np.pi / 180))\n",
    "        y = lat + r * np.sin(theta) / 111320\n",
    "        \n",
    "        point = shapely.geometry.Point(x, y)\n",
    "        \n",
    "        if point.distance(center_point) * 111320 <= R:\n",
    "            random_points.append((y, x))\n",
    "    \n",
    "    return random_points"
   ]
  },
  {
   "cell_type": "code",
   "execution_count": null,
   "metadata": {},
   "outputs": [],
   "source": [
    "hex_resolution = [h3.h3_get_resolution(hex_id) for hex_id in df['hex_id']]\n",
    "df['hex_resolution'] = hex_resolution\n",
    "\n",
    "hex_boundary = [h3.h3_to_geo_boundary(hex_id, geo_json=False) for hex_id in df['hex_id']]\n",
    "df['hex_boundary'] = hex_boundary\n",
    "\n",
    "if params['sampling_mode'] == 'polygon':\n",
    "    pass\n",
    "else:\n",
    "    center_point = [h3.h3_to_geo(hex_id) for hex_id in df['hex_id']]\n",
    "    df['center_point'] = center_point\n",
    "\n",
    "    radius = [min([calculate_geo_distance(r['center_point'], loc) for loc in r['hex_boundary']]) for _, r in df.iterrows()] # type: ignore\n",
    "    df['R'] = radius"
   ]
  },
  {
   "cell_type": "code",
   "execution_count": null,
   "metadata": {},
   "outputs": [],
   "source": [
    "df.head()"
   ]
  },
  {
   "cell_type": "code",
   "execution_count": null,
   "metadata": {},
   "outputs": [],
   "source": [
    "start_time = datetime.datetime.now()\n",
    "\n",
    "psuedo_points = []\n",
    "for i, r in df.iterrows():\n",
    "    random_n_points = None\n",
    "    N = params['h3_max_res'] - r['hex_resolution']\n",
    "    if params['sampling_mode'] == 'polygon':\n",
    "       random_n_points = generate_random_points_in_polygon(r['hex_boundary'], N)\n",
    "    else:\n",
    "        lat, lng = r['center_point']\n",
    "        random_n_points = generate_random_points_in_circle(lat, lng, r['R'], N)\n",
    "\n",
    "    for random_lat, random_lng in random_n_points:\n",
    "        psuedo_point = {\n",
    "            'taxon_id': r['taxa_id'],\n",
    "            'latitude': random_lat,\n",
    "            'longitude': random_lng\n",
    "        }\n",
    "\n",
    "        psuedo_points.append(psuedo_point)\n",
    "\n",
    "df_psuedo_points = pd.DataFrame(psuedo_points)\n",
    "\n",
    "end_time = datetime.datetime.now()\n",
    "print('Executed in: ', (end_time - start_time))"
   ]
  },
  {
   "cell_type": "code",
   "execution_count": null,
   "metadata": {},
   "outputs": [],
   "source": [
    "df_psuedo_points.head(), len(df_psuedo_points)"
   ]
  },
  {
   "cell_type": "code",
   "execution_count": null,
   "metadata": {},
   "outputs": [],
   "source": [
    "with open(\"paths.json\", 'r') as f:\n",
    "    paths = json.load(f)\n",
    "\n",
    "date_now = datetime.datetime.now()\n",
    "df_psuedo_points.to_csv(os.path.join(paths['annotation'], str(date_now)+'.csv'))"
   ]
  },
  {
   "cell_type": "code",
   "execution_count": null,
   "metadata": {},
   "outputs": [],
   "source": []
  }
 ],
 "metadata": {
  "kernelspec": {
   "display_name": "inatator",
   "language": "python",
   "name": "python3"
  },
  "language_info": {
   "codemirror_mode": {
    "name": "ipython",
    "version": 3
   },
   "file_extension": ".py",
   "mimetype": "text/x-python",
   "name": "python",
   "nbconvert_exporter": "python",
   "pygments_lexer": "ipython3",
   "version": "3.9.0"
  }
 },
 "nbformat": 4,
 "nbformat_minor": 2
}
